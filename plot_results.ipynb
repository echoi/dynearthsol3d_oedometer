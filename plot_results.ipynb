{
 "metadata": {
  "name": "",
  "signature": "sha256:a1d800e8501cead2c183e0a37040e5e141d7bb6717ba6e3fc614d8d785651db0"
 },
 "nbformat": 3,
 "nbformat_minor": 0,
 "worksheets": [
  {
   "cells": [
    {
     "cell_type": "code",
     "collapsed": false,
     "input": [
      "import numpy as np\n",
      "import matplotlib.pyplot as plt\n",
      "import pylab"
     ],
     "language": "python",
     "metadata": {},
     "outputs": [],
     "prompt_number": 36
    },
    {
     "cell_type": "code",
     "collapsed": false,
     "input": [
      "a = np.array([[1.66667e-08, 6.66667],\n",
      "[0.000471499, 220032],\n",
      "[0.000943092, 440109],\n",
      "[0.0014148, 660238],\n",
      "[0.00188661, 880418],\n",
      "[0.00235854, 1.10065e+06],\n",
      "[0.00283058, 1.32094e+06],\n",
      "[0.00330273, 1.54127e+06],\n",
      "[0.00377499, 1.76166e+06],\n",
      "[0.00424736, 1.9821e+06],\n",
      "[0.00471984, 2.20259e+06],\n",
      "[0.00519243, 2.42314e+06],\n",
      "[0.00566514, 2.64373e+06],\n",
      "[0.00613796, 2.86438e+06],\n",
      "[0.00661088, 3.062e+06],\n",
      "[0.00708392, 3.22904e+06],\n",
      "[0.00755707, 3.39612e+06],\n",
      "[0.00803033, 3.56324e+06],\n",
      "[0.0085037, 3.7304e+06],\n",
      "[0.00897719, 3.89759e+06],\n",
      "[0.00945078, 4.06483e+06],\n",
      "[0.00992448, 4.23211e+06],\n",
      "[0.0103983, 4.39942e+06],\n",
      "[0.0108722, 4.56678e+06],\n",
      "[0.0113463, 4.73417e+06],\n",
      "[0.0118204, 4.9016e+06],\n",
      "[0.0122947, 5.06908e+06],\n",
      "[0.012769, 5.23659e+06],\n",
      "[0.0132435, 5.40414e+06],\n",
      "[0.0137181, 5.57173e+06],\n",
      "[0.0141928, 5.73936e+06],\n",
      "[0.0146676, 5.90702e+06],\n",
      "[0.0151426, 6.07473e+06],\n",
      "[0.0156176, 6.24248e+06],\n",
      "[0.0160928, 6.41027e+06],\n",
      "[0.016568, 6.57809e+06],\n",
      "[0.0170434, 6.74596e+06],\n",
      "[0.0175189, 6.91386e+06],\n",
      "[0.0179945, 7.0818e+06],\n",
      "[0.0184702, 7.24979e+06],\n",
      "[0.018946, 7.41781e+06],\n",
      "[0.0194219, 7.58587e+06],\n",
      "[0.019898, 7.75397e+06],\n",
      "[0.0203741, 7.92211e+06],\n",
      "[0.0208504, 8.09029e+06],\n",
      "[0.0213267, 8.2585e+06],\n",
      "[0.0218032, 8.42676e+06],\n",
      "[0.0222798, 8.59506e+06],\n",
      "[0.0227565, 8.76339e+06],\n",
      "[0.0232333, 8.93177e+06],\n",
      "[0.0237103, 9.10018e+06]])"
     ],
     "language": "python",
     "metadata": {},
     "outputs": [],
     "prompt_number": 37
    },
    {
     "cell_type": "code",
     "collapsed": false,
     "input": [
      "soln = np.zeros((51,2))\n",
      "\n",
      "K=200e6\n",
      "mu=200e6\n",
      "coh=1e6\n",
      "phi=10*pi/180\n",
      "psi=10.0*pi/180\n",
      "ten=5.67e6\n",
      "rho=1.0\n",
      "vx=1e-5\n",
      "\n",
      "e1=K+4.0*mu/3.0\n",
      "e2=K-2.0*mu/3.0\n",
      "sf=sin(phi)\n",
      "nf=(1.0+sf)/(1.0-sf)\n",
      "sp=sin(psi)\n",
      "nps=(1.0+sp)/(1.0-sp)\n",
      "rl = (e1-e2*nf)/((e1+e2)*nf*nps-2.0*e2*(nf+nps)+2.0*e1)\n",
      "step1 = 2.0*coh*sqrt(nf)/((e1-e2*nf)*vx)\n",
      "\n",
      "#fname=\"ydispl_Sxxa_psi%02d.dat\" % (psi*180/pi)\n",
      "#fo=open(fname,\"w\")\n",
      "\n",
      "Sxx = 0.0\n",
      "for i in range(2001):\n",
      "    if i > 0:\n",
      "        #de = vx\n",
      "        de = vx/(1-vx*i)\n",
      "        if i < step1:\n",
      "            Sxx = Sxx + e1*de\n",
      "        else:\n",
      "            Sxx = Sxx + de*(e1+2.0*rl*(e2*nps-e1))\n",
      "    if i%40==0:\n",
      "        #print >> fo, \"%e %e\" % (i*vx, Sxx)\n",
      "        soln[i/40] = [i*vx, Sxx]\n",
      "        print soln[i/40]\n",
      "\n",
      "#fo.close()"
     ],
     "language": "python",
     "metadata": {},
     "outputs": [
      {
       "output_type": "stream",
       "stream": "stdout",
       "text": [
        "[ 0.  0.]\n",
        "[  4.00000000e-04   1.86704944e+05]\n",
        "[  8.00000000e-04   3.73484615e+05]\n",
        "[  1.20000000e-03   5.60339072e+05]\n",
        "[  1.60000000e-03   7.47268377e+05]\n",
        "[  2.00000000e-03   9.34272589e+05]\n",
        "[  2.40000000e-03   1.12135177e+06]\n",
        "[  2.80000000e-03   1.30850597e+06]\n",
        "[  3.20000000e-03   1.49573527e+06]\n",
        "[  3.60000000e-03   1.68303971e+06]\n",
        "[  4.00000000e-03   1.87041936e+06]\n",
        "[  4.40000000e-03   2.05787427e+06]\n",
        "[  4.80000000e-03   2.24540452e+06]\n",
        "[  5.20000000e-03   2.43301015e+06]\n",
        "[  5.60000000e-03   2.62069124e+06]\n",
        "[  6.00000000e-03   2.80844784e+06]\n",
        "[  6.40000000e-03   2.99628000e+06]\n",
        "[  6.80000000e-03   3.11584230e+06]\n",
        "[  7.20000000e-03   3.23545276e+06]\n",
        "[  7.60000000e-03   3.35511142e+06]\n",
        "[  8.00000000e-03   3.47481832e+06]\n",
        "[  8.40000000e-03   3.59457350e+06]\n",
        "[  8.80000000e-03   3.71437700e+06]\n",
        "[  9.20000000e-03   3.83422885e+06]\n",
        "[  9.60000000e-03   3.95412910e+06]\n",
        "[  1.00000000e-02   4.07407779e+06]\n",
        "[  1.04000000e-02   4.19407495e+06]\n",
        "[  1.08000000e-02   4.31412062e+06]\n",
        "[  1.12000000e-02   4.43421485e+06]\n",
        "[  1.16000000e-02   4.55435766e+06]\n",
        "[  1.20000000e-02   4.67454911e+06]\n",
        "[  1.24000000e-02   4.79478923e+06]\n",
        "[  1.28000000e-02   4.91507806e+06]\n",
        "[  1.32000000e-02   5.03541564e+06]\n",
        "[  1.36000000e-02   5.15580200e+06]\n",
        "[  1.40000000e-02   5.27623720e+06]\n",
        "[  1.44000000e-02   5.39672126e+06]\n",
        "[  1.48000000e-02   5.51725424e+06]\n",
        "[  1.52000000e-02   5.63783616e+06]\n",
        "[  1.56000000e-02   5.75846706e+06]\n",
        "[  1.60000000e-02   5.87914700e+06]\n",
        "[  1.64000000e-02   5.99987600e+06]\n",
        "[  1.68000000e-02   6.12065411e+06]\n",
        "[  1.72000000e-02   6.24148137e+06]\n",
        "[  1.76000000e-02   6.36235781e+06]\n",
        "[  1.80000000e-02   6.48328348e+06]\n",
        "[  1.84000000e-02   6.60425841e+06]\n",
        "[  1.88000000e-02   6.72528266e+06]\n",
        "[  1.92000000e-02   6.84635625e+06]\n",
        "[  1.96000000e-02   6.96747923e+06]\n",
        "[  2.00000000e-02   7.08865164e+06]\n"
       ]
      }
     ],
     "prompt_number": 38
    },
    {
     "cell_type": "code",
     "collapsed": false,
     "input": [
      "np.shape(soln)"
     ],
     "language": "python",
     "metadata": {},
     "outputs": [
      {
       "metadata": {},
       "output_type": "pyout",
       "prompt_number": 39,
       "text": [
        "(51, 2)"
       ]
      }
     ],
     "prompt_number": 39
    },
    {
     "cell_type": "code",
     "collapsed": false,
     "input": [
      "plt.plot(a[:,0],a[:,1],'o',soln[:,0],soln[:,1],'-')"
     ],
     "language": "python",
     "metadata": {},
     "outputs": [
      {
       "metadata": {},
       "output_type": "pyout",
       "prompt_number": 41,
       "text": [
        "[<matplotlib.lines.Line2D at 0x106725350>,\n",
        " <matplotlib.lines.Line2D at 0x106725550>]"
       ]
      },
      {
       "metadata": {},
       "output_type": "display_data",
       "png": "[encoded data removed]",
       "text": [
        "<matplotlib.figure.Figure at 0x1061ee750>"
       ]
      }
     ],
     "prompt_number": 41
    },
    {
     "cell_type": "code",
     "collapsed": false,
     "input": [],
     "language": "python",
     "metadata": {},
     "outputs": []
    }
   ],
   "metadata": {}
  }
 ]
}